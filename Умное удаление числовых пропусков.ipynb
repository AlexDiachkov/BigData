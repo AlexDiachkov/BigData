{
 "cells": [
  {
   "cell_type": "markdown",
   "id": "a1c49fc8",
   "metadata": {},
   "source": [
    "Второй вариант заполнения пропусков в данных — построение KNN моделей для числовых данных!!!\n",
    "\n",
    "В чем суть: пусть у есть пропуски в колонке Car. Вы обучаете KNN на всем тренировочном датасете, но в качестве целевой переменной у вас Car. Обучаете, понятное дело, на тех строках, где в колонке Car значения не пропущены. Потом для всех строк, в которых в колонке Car значения пропущены, получаете предсказания KNN, и этими предсказаниями и заполняете пропуски.\n",
    "\n",
    "По сути, вы заполняете пропуски в строках, основываясь на значениях в колонке Car в тех строках, которые сильнее всего похожи на вашу строку с пропущенным значением.\n",
    "\n",
    "При этом KNNImputer сразу заполнит пропуски во всех колонках ваших данных, в которых есть пропущенные значения, не нужно возиться с каждой колонкой отдельно."
   ]
  },
  {
   "cell_type": "code",
   "execution_count": 1,
   "id": "fc95823b",
   "metadata": {},
   "outputs": [
    {
     "ename": "NameError",
     "evalue": "name 'KNNImputer' is not defined",
     "output_type": "error",
     "traceback": [
      "\u001b[1;31m---------------------------------------------------------------------------\u001b[0m",
      "\u001b[1;31mNameError\u001b[0m                                 Traceback (most recent call last)",
      "\u001b[1;32m<ipython-input-1-28b402fc516b>\u001b[0m in \u001b[0;36m<module>\u001b[1;34m\u001b[0m\n\u001b[1;32m----> 1\u001b[1;33m \u001b[0mimputer\u001b[0m \u001b[1;33m=\u001b[0m \u001b[0mKNNImputer\u001b[0m\u001b[1;33m(\u001b[0m\u001b[0mn_neighbors\u001b[0m\u001b[1;33m=\u001b[0m\u001b[1;36m5\u001b[0m\u001b[1;33m)\u001b[0m\u001b[1;33m\u001b[0m\u001b[1;33m\u001b[0m\u001b[0m\n\u001b[0m\u001b[0;32m      2\u001b[0m \u001b[1;31m# Обучаем KNNImputer на X_train\u001b[0m\u001b[1;33m\u001b[0m\u001b[1;33m\u001b[0m\u001b[1;33m\u001b[0m\u001b[0m\n\u001b[0;32m      3\u001b[0m \u001b[0mimputer\u001b[0m\u001b[1;33m.\u001b[0m\u001b[0mfit\u001b[0m\u001b[1;33m(\u001b[0m\u001b[0mX_train\u001b[0m\u001b[1;33m)\u001b[0m\u001b[1;33m\u001b[0m\u001b[1;33m\u001b[0m\u001b[0m\n\u001b[0;32m      4\u001b[0m \u001b[1;31m# Получаем новый new_X_train — данные как X_train, только без пропусков\u001b[0m\u001b[1;33m\u001b[0m\u001b[1;33m\u001b[0m\u001b[1;33m\u001b[0m\u001b[0m\n\u001b[0;32m      5\u001b[0m \u001b[0mnew_X_train\u001b[0m \u001b[1;33m=\u001b[0m \u001b[0mimputer\u001b[0m\u001b[1;33m.\u001b[0m\u001b[0mtransform\u001b[0m\u001b[1;33m(\u001b[0m\u001b[0mX_train\u001b[0m\u001b[1;33m)\u001b[0m\u001b[1;33m\u001b[0m\u001b[1;33m\u001b[0m\u001b[0m\n",
      "\u001b[1;31mNameError\u001b[0m: name 'KNNImputer' is not defined"
     ]
    }
   ],
   "source": [
    "imputer = KNNImputer(n_neighbors=5)\n",
    "# Обучаем KNNImputer на X_train\n",
    "imputer.fit(X_train)\n",
    "# Получаем новый new_X_train — данные как X_train, только без пропусков\n",
    "new_X_train = imputer.transform(X_train)"
   ]
  },
  {
   "cell_type": "code",
   "execution_count": null,
   "id": "87abc39d",
   "metadata": {},
   "outputs": [],
   "source": []
  }
 ],
 "metadata": {
  "kernelspec": {
   "display_name": "Python 3",
   "language": "python",
   "name": "python3"
  },
  "language_info": {
   "codemirror_mode": {
    "name": "ipython",
    "version": 3
   },
   "file_extension": ".py",
   "mimetype": "text/x-python",
   "name": "python",
   "nbconvert_exporter": "python",
   "pygments_lexer": "ipython3",
   "version": "3.8.8"
  }
 },
 "nbformat": 4,
 "nbformat_minor": 5
}
